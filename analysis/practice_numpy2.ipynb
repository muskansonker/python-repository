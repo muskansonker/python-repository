{
 "cells": [
  {
   "attachments": {},
   "cell_type": "markdown",
   "metadata": {},
   "source": [
    "# Airthmetic Operation on Array"
   ]
  },
  {
   "attachments": {},
   "cell_type": "markdown",
   "metadata": {},
   "source": [
    "    1-D Array"
   ]
  },
  {
   "cell_type": "code",
   "execution_count": null,
   "metadata": {},
   "outputs": [],
   "source": [
    "import numpy as np"
   ]
  },
  {
   "cell_type": "code",
   "execution_count": null,
   "metadata": {},
   "outputs": [],
   "source": [
    "var1=np.array([1,2,3])\n",
    "var2=np.array([8,9,0])\n"
   ]
  },
  {
   "cell_type": "code",
   "execution_count": null,
   "metadata": {},
   "outputs": [],
   "source": [
    "# using functions\n",
    "\n",
    "var_add=np.add(var1,var2)\n",
    "print(var_add)"
   ]
  },
  {
   "cell_type": "code",
   "execution_count": null,
   "metadata": {},
   "outputs": [],
   "source": [
    "# using functions\n",
    "\n",
    "var_add=np.add(var1,3)\n",
    "print(var_add)"
   ]
  },
  {
   "cell_type": "code",
   "execution_count": null,
   "metadata": {},
   "outputs": [],
   "source": [
    "var_add=var1+3\n",
    "print(var_add)"
   ]
  },
  {
   "cell_type": "code",
   "execution_count": null,
   "metadata": {},
   "outputs": [],
   "source": [
    "var_add=var1+var2\n",
    "print(var_add)\n"
   ]
  },
  {
   "cell_type": "code",
   "execution_count": null,
   "metadata": {},
   "outputs": [],
   "source": [
    "var_sub=var1-3\n",
    "print(var_sub)"
   ]
  },
  {
   "cell_type": "code",
   "execution_count": null,
   "metadata": {},
   "outputs": [],
   "source": [
    "var_sub=var1-var2\n",
    "print(var_sub)"
   ]
  },
  {
   "cell_type": "code",
   "execution_count": null,
   "metadata": {},
   "outputs": [],
   "source": [
    "var_mul=var1*3\n",
    "print(var_mul)"
   ]
  },
  {
   "cell_type": "code",
   "execution_count": null,
   "metadata": {},
   "outputs": [],
   "source": [
    "var_mul=var1*var2\n",
    "print(var_mul)"
   ]
  },
  {
   "cell_type": "code",
   "execution_count": null,
   "metadata": {},
   "outputs": [],
   "source": [
    "var_div=var1/3\n",
    "print(var_div)"
   ]
  },
  {
   "cell_type": "code",
   "execution_count": null,
   "metadata": {},
   "outputs": [],
   "source": [
    "var_div=var1/var2\n",
    "print(var_div)"
   ]
  },
  {
   "cell_type": "code",
   "execution_count": null,
   "metadata": {},
   "outputs": [],
   "source": [
    "var_mod=var1%3\n",
    "print(var_mod)"
   ]
  },
  {
   "cell_type": "code",
   "execution_count": null,
   "metadata": {},
   "outputs": [],
   "source": [
    "var_mod=var1%var2\n",
    "print(var_mod)"
   ]
  },
  {
   "cell_type": "code",
   "execution_count": null,
   "metadata": {},
   "outputs": [],
   "source": [
    "var_add=np.reciprocal(var1)\n",
    "print(var_add)"
   ]
  },
  {
   "attachments": {},
   "cell_type": "markdown",
   "metadata": {},
   "source": [
    "    2-D Array"
   ]
  },
  {
   "cell_type": "code",
   "execution_count": null,
   "metadata": {},
   "outputs": [],
   "source": [
    "var2d=np.array([[1,2,3],[8,9,0]])\n",
    "var2d_1=np.array([[1,6,3],[4,6,0]])\n",
    "\n",
    "var_add=var2d+2\n",
    "\n",
    "print(var_add)"
   ]
  },
  {
   "cell_type": "code",
   "execution_count": null,
   "metadata": {},
   "outputs": [],
   "source": [
    "var_pow=var2d**2\n",
    "print(var_pow)"
   ]
  },
  {
   "cell_type": "code",
   "execution_count": null,
   "metadata": {},
   "outputs": [],
   "source": [
    "var_add=var2d+var2d_1\n",
    "print(var_add)"
   ]
  },
  {
   "attachments": {},
   "cell_type": "markdown",
   "metadata": {},
   "source": [
    "--------------------------------------------------------------------------------------------------------------------------------"
   ]
  },
  {
   "attachments": {},
   "cell_type": "markdown",
   "metadata": {},
   "source": [
    "# Shape"
   ]
  },
  {
   "attachments": {},
   "cell_type": "markdown",
   "metadata": {},
   "source": [
    "    Input= .shape\n",
    "    Output= (row,col)"
   ]
  },
  {
   "cell_type": "code",
   "execution_count": null,
   "metadata": {},
   "outputs": [],
   "source": [
    "var= np.array([[4,5,6],[7,8,9]])\n",
    "\n",
    "print(var)\n",
    "print(var.shape)"
   ]
  },
  {
   "cell_type": "code",
   "execution_count": null,
   "metadata": {},
   "outputs": [],
   "source": [
    "var_n=np.array([8,6,3],ndmin=6)  #! ndmin (=number of dimension)\n",
    "print(var_n)\n",
    "print(var_n.ndim)                #!  ndim\n",
    "print(var_n.shape)"
   ]
  },
  {
   "attachments": {},
   "cell_type": "markdown",
   "metadata": {},
   "source": [
    "# Reshape"
   ]
  },
  {
   "attachments": {},
   "cell_type": "markdown",
   "metadata": {},
   "source": [
    "    .reshape(Row=n,Col=n)"
   ]
  },
  {
   "cell_type": "code",
   "execution_count": null,
   "metadata": {},
   "outputs": [],
   "source": [
    "var1=np.array([1,2,3,9,4,2,1,3,2])\n",
    "print(var1)\n",
    "print()\n",
    "\n",
    "x=var1.reshape(9,1) #* (row=9,col=1)\n",
    "print(x) #& 2-D \n",
    "print()\n",
    "y=var1.reshape(1,9) #* (row=1,col=9)\n",
    "print(y) #! 2-D \n",
    "print()\n",
    "z=var1.reshape(3,3) #* (row=3,col=3)\n",
    "print(z) #^ 2-D \n",
    "print()\n",
    "\n",
    "\n"
   ]
  },
  {
   "cell_type": "code",
   "execution_count": null,
   "metadata": {},
   "outputs": [],
   "source": [
    "var1=np.array([1,2,3,9,4,2,2,2,3,5,6,8])  #! (row= 1, col= 12) -> 1-D\n",
    "     #*    (R= - ,C= | )\n",
    "u=var1.reshape(1,12)    #% -> 1-D\n",
    "print(u)\n",
    "print()\n",
    "v=var1.reshape(12,1)    #^ -> 2-D\n",
    "print(v)\n",
    "print(v.ndim)\n",
    "print()\n",
    "w=var1.reshape(4,3)    #^ -> 2-D  How?\n",
    "print(w)\n",
    "print(w.ndim)\n",
    "print()\n",
    "x=var1.reshape(2,6)    #^ -> 2-D\n",
    "print(x)\n",
    "print(x.ndim)\n",
    "print()\n",
    "y=var1.reshape(6,2)    #^ -> 2-D\n",
    "print(y)\n",
    "print(y.ndim)\n",
    "print()\n",
    "z=var1.reshape(3,4)    #^ -> 2-D\n",
    "print(z)\n",
    "print(z.ndim)\n",
    "print()\n",
    "\n"
   ]
  },
  {
   "cell_type": "code",
   "execution_count": null,
   "metadata": {},
   "outputs": [],
   "source": [
    "var1=np.array([1,2,3,9,4,2,2,2,3,5,6,8])  #! (row= 1, col= 12) -> 1-D\n",
    "\n",
    "u=var1.reshape(1,12)    #& -> 1-D\n",
    "print(u)\n",
    "print()\n",
    "v=var1.reshape(12,1)    #^ -> 2-D\n",
    "print(v)\n",
    "print(v.ndim)\n",
    "print()\n",
    "\n",
    "one=v.reshape(-1)\n",
    "print(one,one.ndim)"
   ]
  },
  {
   "attachments": {},
   "cell_type": "markdown",
   "metadata": {},
   "source": [
    "# Broadcasting\n"
   ]
  },
  {
   "attachments": {},
   "cell_type": "markdown",
   "metadata": {},
   "source": [
    "         1.) Same Dimension\n",
    "         2.) (a)- : both of the array have 1.\n",
    "             (b)- : Row/Col same in both."
   ]
  },
  {
   "cell_type": "code",
   "execution_count": 64,
   "metadata": {},
   "outputs": [
    {
     "name": "stdout",
     "output_type": "stream",
     "text": [
      "(3,)\n",
      "(4,)\n",
      "\n",
      "--------------------\n",
      "(3,)\n",
      "(3, 1)\n",
      "\n",
      "[[2 3 4]\n",
      " [3 4 5]\n",
      " [4 5 6]]\n",
      "--------------------\n"
     ]
    }
   ],
   "source": [
    "var1=np.array([1,2,3])\n",
    "print(var1.shape) #* (row=1,col=3)\n",
    "var2=np.array([8,9,0,7])\n",
    "print(var2.shape) #* (row=1,col=4)\n",
    "print()\n",
    "#print(var1+var2) #! ValueError: operands could not be broadcast together with shapes (3,) (4,)\n",
    "print('-'*20)\n",
    "var1=np.array([1,2,3]) #* (row=1,col=3) {max=3 which is present in both}\n",
    "print(var1.shape)\n",
    "var2=np.array([[1],[2],[3]]) #* (row=3,col=1)\n",
    "print(var2.shape)\n",
    "print()\n",
    "print(var1+var2) #! No Error : both of the array have 1.\n",
    "print('-'*20)"
   ]
  },
  {
   "cell_type": "code",
   "execution_count": 65,
   "metadata": {},
   "outputs": [
    {
     "name": "stdout",
     "output_type": "stream",
     "text": [
      "(2,)\n",
      "(3, 1)\n",
      "\n",
      "[[3 4]\n",
      " [4 5]\n",
      " [5 6]]\n"
     ]
    }
   ],
   "source": [
    "var1=np.array([1,2])\n",
    "print(var1.shape) #* (row=1,col=2)\n",
    "var2=np.array([[2],[3],[4]])\n",
    "print(var2.shape) #* (row=3,col=1)\n",
    "print()\n",
    "print(var1+var2)     #! No Error : both of the array have 1."
   ]
  },
  {
   "cell_type": "code",
   "execution_count": 71,
   "metadata": {},
   "outputs": [
    {
     "name": "stdout",
     "output_type": "stream",
     "text": [
      "(2, 1)\n",
      "(2, 3)\n",
      "--------------------\n",
      "[[2 3 4]\n",
      " [4 5 6]]\n"
     ]
    }
   ],
   "source": [
    "var1=np.array([[1],[2]])\n",
    "print(var1.shape)    #* (row=2,col=1)\n",
    "var2=np.array([[1,2,3],[2,3,4]])\n",
    "print(var2.shape)    #* (row=2,col=3)\n",
    "print('-'*20)\n",
    "print(var1+var2)     #! No Error : Row same"
   ]
  },
  {
   "cell_type": "code",
   "execution_count": null,
   "metadata": {},
   "outputs": [],
   "source": [
    "var1=np.array([1,2])\n",
    "print(var1.shape)    #* (row=1,col=2)\n",
    "var2=np.array([[1,2,3],[2,3,4]])\n",
    "print(var2.shape)    #* (row=2,col=3)\n",
    "print('-'*20)\n",
    "print(var1+var2)   #! ValueError: operands could not be broadcast together with shapes (2,) (2,3)"
   ]
  },
  {
   "cell_type": "code",
   "execution_count": 70,
   "metadata": {},
   "outputs": [
    {
     "name": "stdout",
     "output_type": "stream",
     "text": [
      "(2,)\n",
      "(3, 2)\n",
      "--------------------\n",
      "[[2 4]\n",
      " [3 5]\n",
      " [6 8]]\n"
     ]
    }
   ],
   "source": [
    "var1=np.array([1,2])\n",
    "print(var1.shape)    #* (row=1,col=2)\n",
    "var2=np.array([[1,2],[2,3],[5,6]])\n",
    "print(var2.shape)    #* (row=3,col=2)\n",
    "print('-'*20)\n",
    "print(var1+var2)    #! No Error : Column same"
   ]
  }
 ],
 "metadata": {
  "kernelspec": {
   "display_name": "base",
   "language": "python",
   "name": "python3"
  },
  "language_info": {
   "codemirror_mode": {
    "name": "ipython",
    "version": 3
   },
   "file_extension": ".py",
   "mimetype": "text/x-python",
   "name": "python",
   "nbconvert_exporter": "python",
   "pygments_lexer": "ipython3",
   "version": "3.9.12"
  },
  "orig_nbformat": 4,
  "vscode": {
   "interpreter": {
    "hash": "79d71d161e7943240a345005223b4b57f09b9732a24e4917a9c0467b3aef16ea"
   }
  }
 },
 "nbformat": 4,
 "nbformat_minor": 2
}
