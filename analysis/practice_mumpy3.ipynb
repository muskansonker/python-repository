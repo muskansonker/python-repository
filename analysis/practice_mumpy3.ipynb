{
 "cells": [
  {
   "attachments": {},
   "cell_type": "markdown",
   "metadata": {},
   "source": [
    "# Indexing"
   ]
  },
  {
   "cell_type": "code",
   "execution_count": 25,
   "metadata": {},
   "outputs": [],
   "source": [
    "import numpy as np"
   ]
  },
  {
   "cell_type": "code",
   "execution_count": null,
   "metadata": {},
   "outputs": [],
   "source": [
    "#! 2-D Array\n",
    "var1=np.array([[3,7],[8,5]])\n",
    "print(var1.ndim)\n",
    "print(var1[0,1])"
   ]
  },
  {
   "cell_type": "code",
   "execution_count": null,
   "metadata": {},
   "outputs": [],
   "source": [
    "#! 3-D Array\n",
    "var2=np.array([[[1,2],[5,6]]])\n",
    "\n",
    "print(var2)\n",
    "print(var2.ndim)\n",
    "print(var2[0,1,0])"
   ]
  },
  {
   "attachments": {},
   "cell_type": "markdown",
   "metadata": {},
   "source": [
    "# Slicing"
   ]
  },
  {
   "attachments": {},
   "cell_type": "markdown",
   "metadata": {},
   "source": [
    "    [Start:Stop:Step]"
   ]
  },
  {
   "cell_type": "code",
   "execution_count": 15,
   "metadata": {},
   "outputs": [
    {
     "name": "stdout",
     "output_type": "stream",
     "text": [
      "[2 3 4 5 6 7]\n",
      "2 to 5 :  [2 3 4 5]\n",
      "3 to end :  [3 4 5 6 7]\n",
      "start to end :  [2 3 4 5 6]\n",
      "stop :  [2 3 4 5 6 7]\n",
      "stop :  [2 3 4 5 6 7]\n",
      "stop :  [2 4 6]\n",
      "stop :  [3 5]\n"
     ]
    }
   ],
   "source": [
    "var=np.array([2,3,4,5,6,7])\n",
    "print(var)\n",
    "print(\"2 to 5 : \",var[0:4])\n",
    "print(\"3 to end : \",var[1:])\n",
    "print(\"start to end : \",var[:5])\n",
    "print(\"stop : \",var[::])\n",
    "print(\"stop : \",var[:])\n",
    "print(\"stop : \",var[::2])\n",
    "print(\"stop : \",var[1:4:2])"
   ]
  },
  {
   "cell_type": "code",
   "execution_count": 19,
   "metadata": {},
   "outputs": [
    {
     "name": "stdout",
     "output_type": "stream",
     "text": [
      "9 to 7 [9 8 7]\n"
     ]
    }
   ],
   "source": [
    "var1=np.array([[1,2,3,4,5],[0,9,8,7,6],[9,4,2,1,6]])\n",
    "print(\"9 to 7\",var1[1,1:-1])"
   ]
  },
  {
   "attachments": {},
   "cell_type": "markdown",
   "metadata": {},
   "source": [
    "# Iteration"
   ]
  },
  {
   "cell_type": "code",
   "execution_count": 23,
   "metadata": {},
   "outputs": [
    {
     "name": "stdout",
     "output_type": "stream",
     "text": [
      "[1 2 3 4 5]\n",
      "[0 9 8 7 6]\n",
      "\n",
      "--------------------\n",
      "1\n",
      "2\n",
      "3\n",
      "4\n",
      "5\n",
      "0\n",
      "9\n",
      "8\n",
      "7\n",
      "6\n"
     ]
    }
   ],
   "source": [
    "var1=np.array([[1,2,3,4,5],[0,9,8,7,6]])      #* 2-D\n",
    "\n",
    "#! for each row in array\n",
    "for i in var1:\n",
    "    print(i)\n",
    "\n",
    "print()\n",
    "print('-'*20)\n",
    "\n",
    "#! for each element in row\n",
    "for j in var1:\n",
    "    for k in j:\n",
    "        print(k)"
   ]
  },
  {
   "cell_type": "code",
   "execution_count": null,
   "metadata": {},
   "outputs": [],
   "source": [
    "var1=np.array([[[1,2,3,4,5],[0,9,8,7,6],[9,4,3]]])  #* 3-D\n",
    "\n",
    "\n",
    "#! for each element in row\n",
    "for j in var1:\n",
    "    for k in j:\n",
    "        for l in k:\n",
    "            print(l)\n",
    "\n",
    "        "
   ]
  },
  {
   "cell_type": "code",
   "execution_count": 27,
   "metadata": {},
   "outputs": [
    {
     "name": "stdout",
     "output_type": "stream",
     "text": [
      "1\n",
      "2\n",
      "3\n",
      "4\n",
      "5\n",
      "0\n",
      "9\n",
      "8\n",
      "7\n",
      "6\n"
     ]
    }
   ],
   "source": [
    "var1=np.array([[[1,2,3,4,5],[0,9,8,7,6]]])  #* 3-D\n",
    "\n",
    "\n",
    "#! for each element in row\n",
    "for j in np.nditer(var1):\n",
    "    print(j)"
   ]
  },
  {
   "cell_type": "code",
   "execution_count": 28,
   "metadata": {},
   "outputs": [
    {
     "name": "stdout",
     "output_type": "stream",
     "text": [
      "(0, 0, 0) 1\n",
      "(0, 0, 1) 2\n",
      "(0, 0, 2) 3\n",
      "(0, 0, 3) 4\n",
      "(0, 0, 4) 5\n",
      "(0, 1, 0) 0\n",
      "(0, 1, 1) 9\n",
      "(0, 1, 2) 8\n",
      "(0, 1, 3) 7\n",
      "(0, 1, 4) 6\n"
     ]
    }
   ],
   "source": [
    "var1=np.array([[[1,2,3,4,5],[0,9,8,7,6]]])  #* 3-D\n",
    "\n",
    "\n",
    "#! for each element in row with index\n",
    "for i,d in np.ndenumerate(var1):\n",
    "    print(i,d)  #! (index,data)"
   ]
  },
  {
   "attachments": {},
   "cell_type": "markdown",
   "metadata": {},
   "source": [
    "# Copy VS View"
   ]
  },
  {
   "cell_type": "code",
   "execution_count": 31,
   "metadata": {},
   "outputs": [
    {
     "name": "stdout",
     "output_type": "stream",
     "text": [
      "var :  [ 1 40  3  4]\n",
      "copy :  [1 2 3 4]\n",
      "------------------------------\n",
      "var :  [ 1 40  7  4]\n",
      "view :  [ 1 40  7  4]\n"
     ]
    }
   ],
   "source": [
    "var=np.array([1,2,3,4])\n",
    "co=var.copy()\n",
    "var[1]=40\n",
    "print(\"var : \",var)\n",
    "print(\"copy : \",co)\n",
    "print(\"-\"*30)\n",
    "vi=var.view()\n",
    "var[2]=7\n",
    "print(\"var : \",var)\n",
    "print(\"view : \",vi)"
   ]
  },
  {
   "attachments": {},
   "cell_type": "markdown",
   "metadata": {},
   "source": [
    "# Join Function"
   ]
  },
  {
   "attachments": {},
   "cell_type": "markdown",
   "metadata": {},
   "source": [
    "- concatenate= join\n",
    "- stack=merge along with axis (horizontally,Vertically)\n"
   ]
  },
  {
   "cell_type": "code",
   "execution_count": 34,
   "metadata": {},
   "outputs": [
    {
     "name": "stdout",
     "output_type": "stream",
     "text": [
      "[ 1  2  3  4 14 62  6  4]\n"
     ]
    }
   ],
   "source": [
    "var1=np.array([1,2,3,4])\n",
    "var2=np.array([14,62,6,4])\n",
    "ar=np.concatenate((var1,var2))\n",
    "print(ar)"
   ]
  },
  {
   "cell_type": "code",
   "execution_count": 40,
   "metadata": {},
   "outputs": [
    {
     "name": "stdout",
     "output_type": "stream",
     "text": [
      "[[1 2 3 4]\n",
      " [7 4 3 2]\n",
      " [8 6 6 4]\n",
      " [7 3 2 1]]\n"
     ]
    }
   ],
   "source": [
    "var1=np.array([[1,2,3,4],[7,4,3,2]])\n",
    "var2=np.array([[8,6,6,4],[7,3,2,1]])\n",
    "ar=np.concatenate((var1,var2),axis=1)\n",
    "ar=np.concatenate((var1,var2),axis=0)\n",
    "print(ar)\n"
   ]
  },
  {
   "cell_type": "code",
   "execution_count": 43,
   "metadata": {},
   "outputs": [
    {
     "name": "stdout",
     "output_type": "stream",
     "text": [
      "[[ 1 14]\n",
      " [ 2 62]\n",
      " [ 3  6]\n",
      " [ 4  4]]\n"
     ]
    }
   ],
   "source": [
    "var1=np.array([1,2,3,4])\n",
    "var2=np.array([14,62,6,4])\n",
    "ar=np.stack((var1,var2),axis=1)\n",
    "ar=np.stack((var1,var2),axis=0)  #! merge along with axis\n",
    "print(ar)"
   ]
  },
  {
   "cell_type": "code",
   "execution_count": 49,
   "metadata": {},
   "outputs": [
    {
     "name": "stdout",
     "output_type": "stream",
     "text": [
      "[ 1  2  3  4 14 62  6  4]\n",
      "\n",
      "[[ 1  2  3  4]\n",
      " [14 62  6  4]]\n",
      "\n",
      "[[[ 1 14]\n",
      "  [ 2 62]\n",
      "  [ 3  6]\n",
      "  [ 4  4]]]\n"
     ]
    }
   ],
   "source": [
    "var1=np.array([1,2,3,4])\n",
    "var2=np.array([14,62,6,4])\n",
    "ar=np.hstack((var1,var2))  #! merge along with row\n",
    "print(ar)\n",
    "print()\n",
    "ar=np.vstack((var1,var2))  #! merge along with col\n",
    "print(ar)\n",
    "print()\n",
    "ar=np.dstack((var1,var2))  #! merge along with height\n",
    "print(ar)"
   ]
  },
  {
   "attachments": {},
   "cell_type": "markdown",
   "metadata": {},
   "source": [
    "# Split function"
   ]
  },
  {
   "cell_type": "code",
   "execution_count": 52,
   "metadata": {},
   "outputs": [
    {
     "name": "stdout",
     "output_type": "stream",
     "text": [
      "[array([1, 2]), array([3]), array([4])]\n",
      "<class 'list'>\n",
      "[1 2]\n"
     ]
    }
   ],
   "source": [
    "var1=np.array([1,2,3,4])\n",
    "ar=np.array_split(var1,3)\n",
    "print(ar)\n",
    "print(type(ar))\n",
    "print(ar[0])"
   ]
  },
  {
   "cell_type": "code",
   "execution_count": 54,
   "metadata": {},
   "outputs": [
    {
     "name": "stdout",
     "output_type": "stream",
     "text": [
      "[array([[1, 2]]), array([[3, 4]]), array([[5, 7]])]\n",
      "<class 'list'>\n",
      "[[1 2]]\n",
      "\n",
      "[array([[1],\n",
      "       [3],\n",
      "       [5]]), array([[2],\n",
      "       [4],\n",
      "       [7]]), array([], shape=(3, 0), dtype=int32)]\n"
     ]
    }
   ],
   "source": [
    "var1=np.array([[1,2],[3,4],[5,7]])\n",
    "ar=np.array_split(var1,3)\n",
    "print(ar)\n",
    "print(type(ar))\n",
    "print(ar[0])\n",
    "print()\n",
    "ar=np.array_split(var1,3,axis=1)\n",
    "print(ar)"
   ]
  },
  {
   "attachments": {},
   "cell_type": "markdown",
   "metadata": {},
   "source": [
    "# Numpy Array Functions"
   ]
  },
  {
   "attachments": {},
   "cell_type": "markdown",
   "metadata": {},
   "source": [
    "- Search Function"
   ]
  },
  {
   "attachments": {},
   "cell_type": "markdown",
   "metadata": {},
   "source": [
    "     ➤ Search Array : Search an array for a certain value, and return the indexes that get a match."
   ]
  },
  {
   "cell_type": "code",
   "execution_count": 64,
   "metadata": {},
   "outputs": [
    {
     "name": "stdout",
     "output_type": "stream",
     "text": [
      "(array([1, 4, 5], dtype=int64),)\n"
     ]
    }
   ],
   "source": [
    "var1=np.array([1,2,3,4,2,2])\n",
    "x=np.where(var1==2)\n",
    "print(x)"
   ]
  },
  {
   "cell_type": "code",
   "execution_count": 65,
   "metadata": {},
   "outputs": [
    {
     "name": "stdout",
     "output_type": "stream",
     "text": [
      "(array([1, 3], dtype=int64),)\n"
     ]
    }
   ],
   "source": [
    "var1=np.array([1,2,3,4])\n",
    "x=np.where((var1%2)==0)\n",
    "print(x)"
   ]
  },
  {
   "attachments": {},
   "cell_type": "markdown",
   "metadata": {},
   "source": [
    "     ➤ Search Sorted Array : Array which performs a binary search in the array, and returns the index where the specified value would be inserted to maintain the search order."
   ]
  },
  {
   "cell_type": "code",
   "execution_count": 68,
   "metadata": {},
   "outputs": [
    {
     "name": "stdout",
     "output_type": "stream",
     "text": [
      "4\n",
      "4\n",
      "[4 2 4]\n"
     ]
    }
   ],
   "source": [
    "var1=np.array([1,2,3,4])\n",
    "x=np.searchsorted(var1,5)\n",
    "print(x)\n",
    "x=np.searchsorted(var1,5,side=\"right\")\n",
    "print(x)\n",
    "x=np.searchsorted(var1,[5,2,7],side=\"right\")\n",
    "print(x)"
   ]
  },
  {
   "attachments": {},
   "cell_type": "markdown",
   "metadata": {},
   "source": [
    "- Sort Function"
   ]
  },
  {
   "attachments": {},
   "cell_type": "markdown",
   "metadata": {},
   "source": [
    "    ➤ Sort Array: Ordered sequence is any sequence that has an order corresponding to elements, like numeric or alphabetical, ascending or descending."
   ]
  },
  {
   "cell_type": "code",
   "execution_count": 69,
   "metadata": {},
   "outputs": [
    {
     "name": "stdout",
     "output_type": "stream",
     "text": [
      "[3 4 6 7 9]\n"
     ]
    }
   ],
   "source": [
    "var1=np.array([7,9,3,4,6])\n",
    "print(np.sort(var1))"
   ]
  },
  {
   "cell_type": "code",
   "execution_count": 70,
   "metadata": {},
   "outputs": [
    {
     "name": "stdout",
     "output_type": "stream",
     "text": [
      "['a' 'g' 'h' 'n']\n"
     ]
    }
   ],
   "source": [
    "var1=np.array(['n','h','g','a'])\n",
    "print(np.sort(var1))"
   ]
  },
  {
   "cell_type": "code",
   "execution_count": 71,
   "metadata": {},
   "outputs": [
    {
     "name": "stdout",
     "output_type": "stream",
     "text": [
      "[[3 7 9]\n",
      " [3 4 6]]\n"
     ]
    }
   ],
   "source": [
    "var1=np.array([[7,9,3],[4,6,3]])\n",
    "print(np.sort(var1))"
   ]
  },
  {
   "attachments": {},
   "cell_type": "markdown",
   "metadata": {},
   "source": [
    "- Filter Array"
   ]
  },
  {
   "attachments": {},
   "cell_type": "markdown",
   "metadata": {},
   "source": [
    "     ➤ Filter Array: Getting some elements out of an existing array and creating a new array out of them."
   ]
  },
  {
   "cell_type": "code",
   "execution_count": 73,
   "metadata": {},
   "outputs": [
    {
     "name": "stdout",
     "output_type": "stream",
     "text": [
      "['n' 'g']\n",
      "<class 'numpy.ndarray'>\n"
     ]
    }
   ],
   "source": [
    "var1=np.array(['n','h','g','a'])\n",
    "f=[True,False,True,False,]\n",
    "ar=var1[f]\n",
    "print(ar)\n",
    "print(type(ar))"
   ]
  },
  {
   "attachments": {},
   "cell_type": "markdown",
   "metadata": {},
   "source": [
    "# Insert Function "
   ]
  },
  {
   "cell_type": "code",
   "execution_count": 88,
   "metadata": {},
   "outputs": [
    {
     "name": "stdout",
     "output_type": "stream",
     "text": [
      "[7 9 3 8 4 6]\n",
      "[7 9 3 8 4 6]\n",
      "[7 9 3 8 4 8 6]\n"
     ]
    }
   ],
   "source": [
    "var1=np.array([7,9,3,4,6])\n",
    "v=np.insert(var1,3,8)  #* insert(array,pos,value)\n",
    "print(v)\n",
    "v=np.insert(var1,3,8.2)  #! insert --> take only integer value\n",
    "print(v)\n",
    "x=np.insert(var1,(3,4),8)   #* multiple position\n",
    "print(x)"
   ]
  },
  {
   "cell_type": "code",
   "execution_count": 83,
   "metadata": {},
   "outputs": [
    {
     "name": "stdout",
     "output_type": "stream",
     "text": [
      "[[7 9 8 3]\n",
      " [4 6 8 2]]\n",
      "--------------------\n",
      "[[7 9 3]\n",
      " [4 6 2]\n",
      " [8 8 8]]\n",
      "--------------------\n",
      "[[7 9 8 3]\n",
      " [4 6 2 2]]\n"
     ]
    }
   ],
   "source": [
    "var1=np.array([[7,9,3],[4,6,2]])\n",
    "v=np.insert(var1,2,8,axis=1)  #* insert(array,pos,value,axis=0/1/..)   work acc to col\n",
    "print(v)\n",
    "print('-'*20)\n",
    "w=np.insert(var1,2,8,axis=0) #* work acc to row\n",
    "print(w)\n",
    "print('-'*20)\n",
    "x=np.insert(var1,2,[8,2],axis=1) #* multiple values\n",
    "print(x)\n"
   ]
  },
  {
   "cell_type": "code",
   "execution_count": 89,
   "metadata": {},
   "outputs": [
    {
     "name": "stdout",
     "output_type": "stream",
     "text": [
      "[7.  9.  3.  4.  6.  8.3]\n"
     ]
    }
   ],
   "source": [
    "var1=np.array([7,9,3,4,6])\n",
    "v=np.append(var1,8)  \n",
    "v=np.append(var1,8.3)  #! append --> take float and integer value both.\n",
    "print(v)"
   ]
  },
  {
   "cell_type": "code",
   "execution_count": 96,
   "metadata": {},
   "outputs": [
    {
     "name": "stdout",
     "output_type": "stream",
     "text": [
      "[[ 7  9  3]\n",
      " [ 4  6  2]\n",
      " [80 20 65]]\n"
     ]
    }
   ],
   "source": [
    "var1=np.array([[7,9,3],[4,6,2]])\n",
    "x=np.append(var1,[[80,20,65]],axis=0)\n",
    "print(x)\n"
   ]
  },
  {
   "cell_type": "code",
   "execution_count": null,
   "metadata": {},
   "outputs": [],
   "source": [
    "var1=np.array([[7,9,3],[4,6,2]])\n",
    "y=np.append(var1,[[89,23,5]],axis=1)   #! Error\n",
    "print(y)"
   ]
  },
  {
   "attachments": {},
   "cell_type": "markdown",
   "metadata": {},
   "source": [
    "# Delete"
   ]
  },
  {
   "cell_type": "code",
   "execution_count": 101,
   "metadata": {},
   "outputs": [
    {
     "name": "stdout",
     "output_type": "stream",
     "text": [
      "[7 9 3 6]\n"
     ]
    }
   ],
   "source": [
    "var1=np.array([7,9,3,4,6])\n",
    "v=np.delete(var1,3) \n",
    "print(v) "
   ]
  },
  {
   "attachments": {},
   "cell_type": "markdown",
   "metadata": {},
   "source": [
    "# Matrix"
   ]
  },
  {
   "attachments": {},
   "cell_type": "markdown",
   "metadata": {},
   "source": [
    "    Difference between Array and Matrix"
   ]
  },
  {
   "cell_type": "code",
   "execution_count": 102,
   "metadata": {},
   "outputs": [
    {
     "name": "stdout",
     "output_type": "stream",
     "text": [
      "[[1 2 3]\n",
      " [4 5 5]]\n",
      "<class 'numpy.matrix'>\n"
     ]
    }
   ],
   "source": [
    "var=np.matrix([[1,2,3],[4,5,5]])\n",
    "print(var)\n",
    "print(type(var)) #^ (1.) Class different "
   ]
  },
  {
   "cell_type": "code",
   "execution_count": 111,
   "metadata": {},
   "outputs": [
    {
     "name": "stdout",
     "output_type": "stream",
     "text": [
      "[[1 2 3]\n",
      " [4 5 5]]\n",
      "<class 'numpy.ndarray'>\n",
      "----------------------------------------\n",
      "[[ 1  4  9]\n",
      " [16 25 25]]\n",
      "----------------------------------------\n"
     ]
    }
   ],
   "source": [
    "var=np.array([[1,2,3],[4,5,5]])\n",
    "print(var)\n",
    "print(type(var)) #^ (1.) Class different\n",
    "print('-'*40)\n",
    "print(var*var)\n",
    "\n",
    "print('-'*40)"
   ]
  },
  {
   "cell_type": "code",
   "execution_count": 104,
   "metadata": {},
   "outputs": [
    {
     "name": "stdout",
     "output_type": "stream",
     "text": [
      "[[ 2  8  4]\n",
      " [11 14 10]]\n"
     ]
    }
   ],
   "source": [
    "var1=np.matrix([[1,2,3],[4,5,5]])\n",
    "var2=np.matrix([[1,6,1],[7,9,5]])\n",
    "print(var1+var2)"
   ]
  },
  {
   "cell_type": "code",
   "execution_count": null,
   "metadata": {},
   "outputs": [],
   "source": [
    "var1=np.matrix([[1,2,6],[5,5,4]])\n",
    "var2=np.matrix([[1,6,7],[9,5,4]])\n",
    "\n",
    "#* Error?\n",
    "\n",
    "print(var1*var2)   #!  ValueError: shapes (2,3) and (2,3) not aligned: 3 (dim 1) != 2 (dim 0)\n",
    "print(var1.dot(var2))     #!  ValueError: shapes (2,3) and (2,3) not aligned: 3 (dim 1) != 2 (dim 0)"
   ]
  },
  {
   "cell_type": "code",
   "execution_count": null,
   "metadata": {},
   "outputs": [],
   "source": [
    "var1=np.matrix([[1,2],[5,5]])\n",
    "var2=np.matrix([[1,6],[9,5]])\n",
    "print(var1*var2)   #!  ValueError: shapes (2,3) and (2,3) not aligned: 3 (dim 1) != 2 (dim 0)\n",
    "\n",
    "print('-'*40)\n",
    "\n",
    "\n",
    "\n",
    "print(var1.dot(var2)) #^ Multiplication of matrix done when broadcast condition meet.\n"
   ]
  },
  {
   "attachments": {},
   "cell_type": "markdown",
   "metadata": {},
   "source": [
    "    Matrix Functions\n",
    "\n",
    "- Transpose - Change axis of matrix.\n",
    "\n",
    "- Swapaxes\n",
    "\n",
    "- Inverse\n",
    "\n",
    "- Power\n",
    "\n",
    "- Determinant"
   ]
  },
  {
   "cell_type": "code",
   "execution_count": 119,
   "metadata": {},
   "outputs": [
    {
     "name": "stdout",
     "output_type": "stream",
     "text": [
      "[[1 5]\n",
      " [2 5]]\n",
      "[[1 4]\n",
      " [2 5]\n",
      " [3 5]]\n"
     ]
    }
   ],
   "source": [
    "var1=np.matrix([[1,2],[5,5]])\n",
    "print(np.transpose(var1)) #^ transpose Matrix\n",
    "print(var.T) #& Alternate of transpose matrix"
   ]
  },
  {
   "cell_type": "code",
   "execution_count": 120,
   "metadata": {},
   "outputs": [
    {
     "name": "stdout",
     "output_type": "stream",
     "text": [
      "[[1 5]\n",
      " [2 5]]\n"
     ]
    }
   ],
   "source": [
    "var1=np.matrix([[1,2],[5,5]])\n",
    "print(var1)\n",
    "print(np.swapaxes(var1,0,1)) #^ Swapaxes Matrix"
   ]
  },
  {
   "cell_type": "code",
   "execution_count": 121,
   "metadata": {},
   "outputs": [
    {
     "name": "stdout",
     "output_type": "stream",
     "text": [
      "[[1 2]\n",
      " [5 5]]\n",
      "[[-1.   0.4]\n",
      " [ 1.  -0.2]]\n"
     ]
    }
   ],
   "source": [
    "var1=np.matrix([[1,2],[5,5]])\n",
    "print(var1)\n",
    "\n",
    "print(np.linalg.inv(var1)) #^ Inverse Matrix\n"
   ]
  },
  {
   "cell_type": "code",
   "execution_count": 123,
   "metadata": {},
   "outputs": [
    {
     "name": "stdout",
     "output_type": "stream",
     "text": [
      "[[1 2]\n",
      " [5 5]]\n",
      "----------------------------------------\n",
      "[[11 12]\n",
      " [30 35]]\n",
      "----------------------------------------\n",
      "[[1 0]\n",
      " [0 1]]\n",
      "----------------------------------------\n",
      "[[ 1.4  -0.48]\n",
      " [-1.2   0.44]]\n"
     ]
    }
   ],
   "source": [
    "var1=np.matrix([[1,2],[5,5]])\n",
    "print(var1)\n",
    "print('-'*40)\n",
    "\n",
    "print(np.linalg.matrix_power(var1,2)) #^ Power Matrix\n",
    "print('-'*40)\n",
    "\n",
    "print(np.linalg.matrix_power(var1,0))\n",
    "print('-'*40)\n",
    "\n",
    "print(np.linalg.matrix_power(var1,-2))"
   ]
  },
  {
   "cell_type": "code",
   "execution_count": 124,
   "metadata": {},
   "outputs": [
    {
     "name": "stdout",
     "output_type": "stream",
     "text": [
      "[[1 2]\n",
      " [5 5]]\n",
      "----------------------------------------\n",
      "-4.999999999999999\n"
     ]
    }
   ],
   "source": [
    "var1=np.matrix([[1,2],[5,5]])\n",
    "print(var1)\n",
    "print('-'*40)\n",
    "print(np.linalg.det(var1)) #^ Determinant Matrix"
   ]
  }
 ],
 "metadata": {
  "kernelspec": {
   "display_name": "base",
   "language": "python",
   "name": "python3"
  },
  "language_info": {
   "codemirror_mode": {
    "name": "ipython",
    "version": 3
   },
   "file_extension": ".py",
   "mimetype": "text/x-python",
   "name": "python",
   "nbconvert_exporter": "python",
   "pygments_lexer": "ipython3",
   "version": "3.9.12"
  },
  "orig_nbformat": 4,
  "vscode": {
   "interpreter": {
    "hash": "79d71d161e7943240a345005223b4b57f09b9732a24e4917a9c0467b3aef16ea"
   }
  }
 },
 "nbformat": 4,
 "nbformat_minor": 2
}
