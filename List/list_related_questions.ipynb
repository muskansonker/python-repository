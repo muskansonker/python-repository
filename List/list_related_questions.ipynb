{
 "cells": [
  {
   "attachments": {},
   "cell_type": "markdown",
   "metadata": {},
   "source": [
    "### Questions"
   ]
  },
  {
   "attachments": {},
   "cell_type": "markdown",
   "metadata": {},
   "source": [
    "1. Create two list and create another list by adding elements of both list together accoording to the index.\n",
    "\n",
    "\n"
   ]
  },
  {
   "cell_type": "code",
   "execution_count": 1,
   "metadata": {},
   "outputs": [
    {
     "name": "stdout",
     "output_type": "stream",
     "text": [
      "[1, 2, 3, 4, 5]\n",
      "[6, 7, 8, 9, 0]\n",
      "---------------\n",
      "[7, 9, 11, 13, 5]\n"
     ]
    }
   ],
   "source": [
    "z=[]\n",
    "a=[1,2,3,4,5]\n",
    "b=[6,7,8,9,0]\n",
    "for i , j in zip(a,b):\n",
    "    ans=i+j\n",
    "    z.append(ans)\n",
    "print(a)\n",
    "print(b)\n",
    "print('-'*15)\n",
    "print(z)"
   ]
  },
  {
   "cell_type": "code",
   "execution_count": 10,
   "metadata": {},
   "outputs": [
    {
     "name": "stdout",
     "output_type": "stream",
     "text": [
      "[1, 2, 3]\n",
      "[6, 7, 8, 9]\n",
      "---------------\n",
      "[7, 9, 11]\n"
     ]
    }
   ],
   "source": [
    "p=[ ]\n",
    "m=[1,2,3]\n",
    "s=[6,7,8,9]\n",
    "for i , j in zip(m,s):\n",
    "    ans=i+j\n",
    "    p.append(ans)\n",
    "print(m)\n",
    "print(s)\n",
    "print('-'*15)\n",
    "print(p)"
   ]
  },
  {
   "attachments": {},
   "cell_type": "markdown",
   "metadata": {},
   "source": [
    "2. We have length of 5 items in one list and width of 5 items in another list . calculate the area and store tehm into third list, take one item from n both list at a time."
   ]
  },
  {
   "cell_type": "code",
   "execution_count": 8,
   "metadata": {},
   "outputs": [
    {
     "name": "stdout",
     "output_type": "stream",
     "text": [
      "[1, 12, 3, 2, 5]\n",
      "[6, 2, 7, 3, 9]\n",
      "---------------\n",
      "[6, 24, 21, 6, 45]\n"
     ]
    }
   ],
   "source": [
    "u=[]\n",
    "k=[1,12,3,2,5]\n",
    "l=[6,2,7,3,9]\n",
    "for i , j in zip(k,l):\n",
    "    ans=i*j\n",
    "    u.append(ans)\n",
    "print(k)\n",
    "print(l)\n",
    "print('-'*15)\n",
    "print(u)"
   ]
  },
  {
   "attachments": {},
   "cell_type": "markdown",
   "metadata": {},
   "source": [
    "3. we have the list of numbers, we need to square each number and store them into another list."
   ]
  },
  {
   "cell_type": "code",
   "execution_count": 11,
   "metadata": {},
   "outputs": [
    {
     "name": "stdout",
     "output_type": "stream",
     "text": [
      "[4, 9, 16, 25]\n"
     ]
    }
   ],
   "source": [
    "list1=[2,3,4,5]\n",
    "list2=[]\n",
    "for i in list1:\n",
    "    ans=i**2\n",
    "    list2.append(ans)\n",
    "print(list2)"
   ]
  },
  {
   "attachments": {},
   "cell_type": "markdown",
   "metadata": {},
   "source": [
    "### List Comprehension\n",
    "~~~\n",
    "newList=[expression for item in iterable if condition==True]\n",
    "~~~"
   ]
  },
  {
   "cell_type": "code",
   "execution_count": 13,
   "metadata": {},
   "outputs": [
    {
     "name": "stdout",
     "output_type": "stream",
     "text": [
      "[9, 144, 1764, 25, 324]\n"
     ]
    }
   ],
   "source": [
    "x1=[3,12,42,5,18]\n",
    "x2=[i**2 for i in x1]\n",
    "print(x2)"
   ]
  },
  {
   "cell_type": "code",
   "execution_count": 15,
   "metadata": {},
   "outputs": [
    {
     "name": "stdout",
     "output_type": "stream",
     "text": [
      "[12, 42, 18]\n"
     ]
    }
   ],
   "source": [
    "x1=[3,12,42,5,18]\n",
    "x3=[i for i in x1 if i%2==0]\n",
    "print(x3)"
   ]
  },
  {
   "cell_type": "code",
   "execution_count": 14,
   "metadata": {},
   "outputs": [
    {
     "name": "stdout",
     "output_type": "stream",
     "text": [
      "[5, 3, 6, 7]\n"
     ]
    }
   ],
   "source": [
    "w4=['hello','air','nobita','doremon']\n",
    "sizes=[len(w) for w in w4]\n",
    "print(sizes)"
   ]
  },
  {
   "cell_type": "code",
   "execution_count": 16,
   "metadata": {},
   "outputs": [
    {
     "name": "stdout",
     "output_type": "stream",
     "text": [
      "[6, 45, 48, 42]\n"
     ]
    }
   ],
   "source": [
    "lens=[2,5,6,7]\n",
    "wids=[3,9,8,6]\n",
    "area=[l*w for l,w in zip(lens,wids)]\n",
    "print(area)"
   ]
  }
 ],
 "metadata": {
  "kernelspec": {
   "display_name": "base",
   "language": "python",
   "name": "python3"
  },
  "language_info": {
   "codemirror_mode": {
    "name": "ipython",
    "version": 3
   },
   "file_extension": ".py",
   "mimetype": "text/x-python",
   "name": "python",
   "nbconvert_exporter": "python",
   "pygments_lexer": "ipython3",
   "version": "3.9.12"
  },
  "orig_nbformat": 4,
  "vscode": {
   "interpreter": {
    "hash": "79d71d161e7943240a345005223b4b57f09b9732a24e4917a9c0467b3aef16ea"
   }
  }
 },
 "nbformat": 4,
 "nbformat_minor": 2
}
