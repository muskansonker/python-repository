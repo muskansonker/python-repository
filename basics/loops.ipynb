{
 "cells": [
  {
   "cell_type": "markdown",
   "metadata": {},
   "source": [
    "### Loop\n",
    "- For Loop- step based loop\n",
    "- While Loop- Condition based Loop \n",
    "\n",
    "SYNTAX:\n",
    "\n",
    "for temp_variable in range:\n",
    "\n",
    "statement1\n",
    "\n",
    "statement2\n",
    "\n",
    "statement....\n",
    "\n",
    "statement n\n",
    "\n"
   ]
  },
  {
   "cell_type": "markdown",
   "metadata": {},
   "source": [
    "Note: When we know the number of iteration.(FOR LOOP)"
   ]
  },
  {
   "cell_type": "code",
   "execution_count": 2,
   "metadata": {},
   "outputs": [
    {
     "name": "stdout",
     "output_type": "stream",
     "text": [
      "a\n",
      "l\n",
      "p\n",
      "h\n",
      "a\n",
      "b\n",
      "e\n",
      "t\n"
     ]
    }
   ],
   "source": [
    "a='alphabet'\n",
    "for i in a:\n",
    "    print(i)"
   ]
  },
  {
   "cell_type": "code",
   "execution_count": 3,
   "metadata": {},
   "outputs": [
    {
     "name": "stdout",
     "output_type": "stream",
     "text": [
      "i like red\n",
      "i like green\n",
      "i like blue\n",
      "i like black\n"
     ]
    }
   ],
   "source": [
    "colors=['red','green','blue','black']\n",
    "for color in colors:\n",
    "    print(\"i like\",color)"
   ]
  },
  {
   "cell_type": "code",
   "execution_count": 5,
   "metadata": {},
   "outputs": [
    {
     "name": "stdout",
     "output_type": "stream",
     "text": [
      "0\n",
      "1\n",
      "2\n",
      "3\n",
      "4\n",
      "5\n",
      "6\n",
      "7\n",
      "8\n",
      "9\n"
     ]
    }
   ],
   "source": [
    "for i in range(10):\n",
    "    print(i)"
   ]
  },
  {
   "cell_type": "code",
   "execution_count": 7,
   "metadata": {},
   "outputs": [
    {
     "name": "stdout",
     "output_type": "stream",
     "text": [
      "0 1 2 3 4 5 6 7 8 9 10 11 12 13 14 15 16 17 18 19 20 21 22 23 24 25 26 27 28 29 30 31 32 33 34 35 36 37 38 39 40 41 42 43 44 45 46 47 48 49 50 51 52 53 54 55 56 57 58 59 60 61 62 63 64 65 66 67 68 69 70 71 72 73 74 75 76 77 78 79 80 81 82 83 84 85 86 87 88 89 90 91 92 93 94 95 96 97 98 99 "
     ]
    }
   ],
   "source": [
    "for i in range(100):\n",
    "    print(i,end=' ')"
   ]
  },
  {
   "cell_type": "code",
   "execution_count": 8,
   "metadata": {},
   "outputs": [
    {
     "name": "stdout",
     "output_type": "stream",
     "text": [
      "5 6 7 8 9 10 11 12 13 14 15 16 17 18 19 20 21 22 23 24 25 26 27 28 29 30 31 32 33 34 35 36 37 38 39 40 41 42 43 44 45 46 47 48 49 "
     ]
    }
   ],
   "source": [
    "for i in range(5,50):\n",
    "    print(i,end=' ')"
   ]
  },
  {
   "cell_type": "code",
   "execution_count": 10,
   "metadata": {},
   "outputs": [
    {
     "name": "stdout",
     "output_type": "stream",
     "text": [
      "10 20 30 40 50 60 70 80 90 100 "
     ]
    }
   ],
   "source": [
    "for i in range(10,101,10):\n",
    "#for i in range(10,100,10): Output--> 10 20 30 40 50 60 70 80 90 \n",
    "    print(i,end=' ')"
   ]
  },
  {
   "cell_type": "code",
   "execution_count": 11,
   "metadata": {},
   "outputs": [
    {
     "name": "stdout",
     "output_type": "stream",
     "text": [
      "46 is even\n",
      "89 is odd\n",
      "6 is even\n",
      "0 is even\n",
      "8 is even\n",
      "9 is odd\n",
      "78 is even\n"
     ]
    }
   ],
   "source": [
    "num = [46,89,6,0,8,9,78]\n",
    "for i in num:\n",
    "    if i%2==0:\n",
    "        print(f'{i} is even')\n",
    "    else:\n",
    "        print(f'{i} is odd')"
   ]
  },
  {
   "cell_type": "code",
   "execution_count": 15,
   "metadata": {},
   "outputs": [
    {
     "name": "stdout",
     "output_type": "stream",
     "text": [
      "orange\n",
      "yellow\n"
     ]
    }
   ],
   "source": [
    "col=['red','orange','yellow','blue']\n",
    "for c in col:\n",
    "    if 'o' in c:\n",
    "        print(c)"
   ]
  },
  {
   "cell_type": "code",
   "execution_count": 17,
   "metadata": {},
   "outputs": [
    {
     "name": "stdout",
     "output_type": "stream",
     "text": [
      "Hello Sir\n",
      "Hello Ma'am\n",
      "Hello Sir\n",
      "Hello Doctor\n",
      "Hello Sir\n",
      "Chris is not invited\n"
     ]
    }
   ],
   "source": [
    "guests=['Mr Alex','Mrs Joe','Mr smith','Dr Yash','Mr Strange','Chris']\n",
    "\n",
    "for name in guests:\n",
    "    if name.startswith('Mr '):\n",
    "        print(\"Hello Sir\")\n",
    "    elif name.startswith('Mrs '):\n",
    "        print(\"Hello Ma'am\")\n",
    "    elif name.startswith('Dr '):\n",
    "        print(\"Hello Doctor\")\n",
    "    else:\n",
    "        print(f'{name} is not invited')"
   ]
  },
  {
   "cell_type": "code",
   "execution_count": 19,
   "metadata": {},
   "outputs": [
    {
     "name": "stdout",
     "output_type": "stream",
     "text": [
      "🙄\n",
      "😔\n",
      "😔\n",
      "😐\n",
      "🙄\n",
      "🙄\n",
      "😔\n",
      "😔\n",
      "😔\n",
      "😔\n",
      "😐\n"
     ]
    }
   ],
   "source": [
    "num=[23,56,78,43,23,7,78,90,888,53456,33]\n",
    "for i in num:\n",
    "    if i<30:\n",
    "        print('🙄')\n",
    "    elif i>50:\n",
    "        print(\"😔\")\n",
    "    else:\n",
    "        print(\"😐\")"
   ]
  },
  {
   "cell_type": "markdown",
   "metadata": {},
   "source": [
    "### function along with the loops\n",
    "- enumerate() -- used for achieveing the index number along with the results.\n",
    "- zip() -- it will give two value using two iterable. it will give two or more list values using one single loop "
   ]
  },
  {
   "cell_type": "code",
   "execution_count": 1,
   "metadata": {},
   "outputs": [
    {
     "name": "stdout",
     "output_type": "stream",
     "text": [
      "(0, 'A')\n",
      "(1, 'B')\n",
      "(2, 'C')\n",
      "(3, 'D')\n"
     ]
    }
   ],
   "source": [
    "#Tuple and backing\n",
    "names=['A','B','C','D']\n",
    "for nm in enumerate(names):\n",
    "    print(nm)"
   ]
  },
  {
   "cell_type": "code",
   "execution_count": 2,
   "metadata": {},
   "outputs": [
    {
     "name": "stdout",
     "output_type": "stream",
     "text": [
      "A is at index 0\n",
      "B is at index 1\n",
      "C is at index 2\n",
      "D is at index 3\n"
     ]
    }
   ],
   "source": [
    "for i,nm in enumerate(names):\n",
    "    print(f'{nm} is at index {i}')"
   ]
  },
  {
   "cell_type": "code",
   "execution_count": 3,
   "metadata": {},
   "outputs": [],
   "source": [
    "bday=['26 sep','22 mar','10 feb','16 april']\n"
   ]
  },
  {
   "cell_type": "code",
   "execution_count": 5,
   "metadata": {},
   "outputs": [
    {
     "name": "stdout",
     "output_type": "stream",
     "text": [
      "A has bday on 26 sep\n",
      "B has bday on 22 mar\n",
      "C has bday on 10 feb\n",
      "D has bday on 16 april\n"
     ]
    }
   ],
   "source": [
    "for nm ,day in zip(names,bday):\n",
    "    print(f'{nm} has bday on {day}')"
   ]
  },
  {
   "cell_type": "code",
   "execution_count": 9,
   "metadata": {},
   "outputs": [
    {
     "name": "stdout",
     "output_type": "stream",
     "text": [
      "tv | $4000 | 5 pcs | total=20000\n",
      "fridge | $70000 | 67 pcs | total=4690000\n",
      "oven | $8900 | 89 pcs | total=792100\n"
     ]
    }
   ],
   "source": [
    "product=['tv','fridge','oven']\n",
    "price=['4000','70000','8900']\n",
    "qty=[5,67,89]\n",
    "\n",
    "for p,pr,q in zip(product,price,qty):\n",
    "    print(f'{p} | ${pr} | {q} pcs | total={int(pr)*(q)}')"
   ]
  },
  {
   "cell_type": "markdown",
   "metadata": {},
   "source": [
    "Loop Control\n",
    "- continue --> skip a turn.\n",
    "- break --> Exit/Stop the loop\n",
    "\n",
    "\n",
    "Note- They are only used in a condition inside loop."
   ]
  },
  {
   "cell_type": "code",
   "execution_count": null,
   "metadata": {},
   "outputs": [],
   "source": [
    "x=[2,9,8,0,9,2,0,3,45,5,6,7,0,9,0,8,7]\n",
    "for i in x:\n",
    "    if i==0:\n",
    "        continue\n",
    "    print(i)"
   ]
  },
  {
   "cell_type": "code",
   "execution_count": 12,
   "metadata": {},
   "outputs": [
    {
     "name": "stdout",
     "output_type": "stream",
     "text": [
      "2\n",
      "9\n",
      "8\n",
      "Invalid data found!\n"
     ]
    }
   ],
   "source": [
    "x=[2,9,8,0,9,2,0,3,45,5,6,7,0,9,0,8,7]\n",
    "for i in x:\n",
    "    if i==0:\n",
    "        print(\"Invalid data found!\")\n",
    "        break\n",
    "    print(i)"
   ]
  },
  {
   "cell_type": "code",
   "execution_count": 14,
   "metadata": {},
   "outputs": [
    {
     "name": "stdout",
     "output_type": "stream",
     "text": [
      "A\n",
      "B\n"
     ]
    }
   ],
   "source": [
    "for i,nm in enumerate(names):\n",
    "    if i==2:\n",
    "        break\n",
    "    print(nm)"
   ]
  },
  {
   "cell_type": "markdown",
   "metadata": {},
   "source": [
    "For-else"
   ]
  },
  {
   "cell_type": "code",
   "execution_count": 19,
   "metadata": {},
   "outputs": [
    {
     "name": "stdout",
     "output_type": "stream",
     "text": [
      "8 9 6 Loop Broken\n"
     ]
    }
   ],
   "source": [
    "c=True #Flag or switch\n",
    "for i in[8,9,6,5,77,3,2]:\n",
    "    if i==5:\n",
    "        c=False\n",
    "        break\n",
    "    print(i,end=' ')\n",
    "if c:\n",
    "    print('Loop Complete')\n",
    "else:\n",
    "    print('Loop Broken')"
   ]
  },
  {
   "cell_type": "code",
   "execution_count": 21,
   "metadata": {},
   "outputs": [
    {
     "name": "stdout",
     "output_type": "stream",
     "text": [
      "8 9 6 77 3 2 Loop Completed!\n"
     ]
    }
   ],
   "source": [
    "for i in[8,9,6,77,3,2]:\n",
    "    if i==5:\n",
    "        break\n",
    "    print(i,end=' ')\n",
    "else:\n",
    "    print('Loop Completed!')"
   ]
  },
  {
   "cell_type": "markdown",
   "metadata": {},
   "source": [
    "Move the cursor with the line written in code\n",
    "\n",
    "select line + ALT on hold + up/down"
   ]
  },
  {
   "cell_type": "markdown",
   "metadata": {},
   "source": [
    "while loop- condition/step based loop"
   ]
  },
  {
   "cell_type": "code",
   "execution_count": 22,
   "metadata": {},
   "outputs": [
    {
     "name": "stdout",
     "output_type": "stream",
     "text": [
      "100\n",
      "90\n",
      "80\n",
      "70\n",
      "60\n",
      "50\n",
      "40\n",
      "30\n",
      "20\n",
      "10\n"
     ]
    }
   ],
   "source": [
    "x=100\n",
    "while x>0:\n",
    "    print(x)\n",
    "    x-=10"
   ]
  }
 ],
 "metadata": {
  "kernelspec": {
   "display_name": "Python 3.9.12 ('base')",
   "language": "python",
   "name": "python3"
  },
  "language_info": {
   "codemirror_mode": {
    "name": "ipython",
    "version": 3
   },
   "file_extension": ".py",
   "mimetype": "text/x-python",
   "name": "python",
   "nbconvert_exporter": "python",
   "pygments_lexer": "ipython3",
   "version": "3.9.12 (main, Apr  4 2022, 05:22:27) [MSC v.1916 64 bit (AMD64)]"
  },
  "orig_nbformat": 4,
  "vscode": {
   "interpreter": {
    "hash": "79d71d161e7943240a345005223b4b57f09b9732a24e4917a9c0467b3aef16ea"
   }
  }
 },
 "nbformat": 4,
 "nbformat_minor": 2
}
